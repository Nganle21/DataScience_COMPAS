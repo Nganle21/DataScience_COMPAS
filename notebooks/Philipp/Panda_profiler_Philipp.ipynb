{
 "cells": [
  {
   "cell_type": "code",
   "execution_count": 23,
   "id": "31b4067d",
   "metadata": {},
   "outputs": [],
   "source": [
    "import pandas as pd\n",
    "import numpy as np\n",
    "from pandas_profiling import ProfileReport\n",
    "import os"
   ]
  },
  {
   "cell_type": "code",
   "execution_count": 24,
   "id": "96b81f0d",
   "metadata": {},
   "outputs": [],
   "source": [
    "# Build csv_path as \"absolute path\" in order to call this method from anywhere.\n",
    "# Use os.path.abspath('') instead as an absolute path anchor independant of file location\n",
    "# Use os.path library to construct path independent of Mac vs. Unix vs. Windows specificities\n",
    "#root_dir = os.path.dirname(os.path.dirname(os.path.abspath('')))\n",
    "#csv_path = os.path.join(root_dir, \"data-ProPublica\",\"compas-scores-two-years.csv\")"
   ]
  },
  {
   "cell_type": "code",
   "execution_count": 25,
   "id": "e34d143f",
   "metadata": {},
   "outputs": [],
   "source": [
    "raw_data = pd.read_csv(\"compas-scores-two-years-cleaned.csv\", \n",
    "                       parse_dates=[\"compas_screening_date\", \n",
    "                                    \"dob\", \n",
    "                                    \"c_jail_in\", \n",
    "                                    \"c_jail_out\", \n",
    "                                    \"c_offense_date\", \n",
    "                                    \"c_arrest_date\", \n",
    "                                    \"r_offense_date\",\n",
    "                                    \"r_jail_in\", \n",
    "                                    \"r_jail_out\", \n",
    "                                    \"vr_offense_date\",\n",
    "                                    \"in_custody\",\n",
    "                                    \"out_custody\"\n",
    "                                   ])"
   ]
  },
  {
   "cell_type": "code",
   "execution_count": null,
   "id": "1cfcf576",
   "metadata": {
    "scrolled": false
   },
   "outputs": [
    {
     "data": {
      "application/vnd.jupyter.widget-view+json": {
       "model_id": "847f01cc751540ab93702a15239378dd",
       "version_major": 2,
       "version_minor": 0
      },
      "text/plain": [
       "Summarize dataset:   0%|          | 0/62 [00:00<?, ?it/s]"
      ]
     },
     "metadata": {},
     "output_type": "display_data"
    },
    {
     "data": {
      "application/vnd.jupyter.widget-view+json": {
       "model_id": "b9b9285f823c45e39490adf042c5dc70",
       "version_major": 2,
       "version_minor": 0
      },
      "text/plain": [
       "Generate report structure:   0%|          | 0/1 [00:00<?, ?it/s]"
      ]
     },
     "metadata": {},
     "output_type": "display_data"
    }
   ],
   "source": [
    "ProfileReport(raw_data, title=\"Pandas Profiling Report\")"
   ]
  },
  {
   "cell_type": "code",
   "execution_count": null,
   "id": "78b0f33f",
   "metadata": {},
   "outputs": [],
   "source": []
  }
 ],
 "metadata": {
  "kernelspec": {
   "display_name": "Python 3 (ipykernel)",
   "language": "python",
   "name": "python3"
  },
  "language_info": {
   "codemirror_mode": {
    "name": "ipython",
    "version": 3
   },
   "file_extension": ".py",
   "mimetype": "text/x-python",
   "name": "python",
   "nbconvert_exporter": "python",
   "pygments_lexer": "ipython3",
   "version": "3.8.6"
  },
  "toc": {
   "base_numbering": 1,
   "nav_menu": {},
   "number_sections": true,
   "sideBar": true,
   "skip_h1_title": false,
   "title_cell": "Table of Contents",
   "title_sidebar": "Contents",
   "toc_cell": false,
   "toc_position": {},
   "toc_section_display": true,
   "toc_window_display": false
  }
 },
 "nbformat": 4,
 "nbformat_minor": 5
}
